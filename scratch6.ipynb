{
 "cells": [
  {
   "cell_type": "code",
   "execution_count": 20,
   "id": "f14702ef-1618-4592-ad86-dddb29b9368e",
   "metadata": {},
   "outputs": [],
   "source": [
    "import sqlalchemy\n",
    "from sqlalchemy import create_engine\n",
    "\n",
    "path = 'auctions.db'\n",
    "engine = create_engine(f'sqlite:///{path}')"
   ]
  },
  {
   "cell_type": "code",
   "execution_count": 21,
   "id": "d81b96b5-6c78-49dd-8c68-cebb925955bb",
   "metadata": {},
   "outputs": [
    {
     "data": {
      "text/plain": [
       "[]"
      ]
     },
     "execution_count": 21,
     "metadata": {},
     "output_type": "execute_result"
    }
   ],
   "source": [
    "from sqlalchemy import inspect\n",
    "\n",
    "inspector = inspect(engine)\n",
    "inspector.get_table_names()"
   ]
  },
  {
   "cell_type": "code",
   "execution_count": 22,
   "id": "c3296b12-a6ff-4c56-b7e1-cc8101cbfd5e",
   "metadata": {},
   "outputs": [],
   "source": [
    "import pandas as pd\n",
    "from sqlalchemy.orm import Session\n",
    "\n",
    "class DataBase:\n",
    "    def __init__(self, loc: str, db_type: str = \"sqlite\") -> None:\n",
    "        \"\"\"Initialize the class and connect to the database\"\"\"\n",
    "        self.loc = loc\n",
    "        self.db_type = db_type\n",
    "        self.engine = create_engine(f'{self.db_type}:///{self.loc}')\n",
    "    def query(self, q: str) -> pd.DataFrame:\n",
    "        \"\"\"Run a query against the database and return a DataFrame\"\"\"\n",
    "        with Session(self.engine) as session:\n",
    "            df = pd.read_sql(q, session.bind)\n",
    "        return(df)\n",
    "\n",
    "auctions = DataBase(path)"
   ]
  }
 ],
 "metadata": {
  "kernelspec": {
   "display_name": "Python 3 (ipykernel)",
   "language": "python",
   "name": "python3"
  },
  "language_info": {
   "codemirror_mode": {
    "name": "ipython",
    "version": 3
   },
   "file_extension": ".py",
   "mimetype": "text/x-python",
   "name": "python",
   "nbconvert_exporter": "python",
   "pygments_lexer": "ipython3",
   "version": "3.10.13"
  }
 },
 "nbformat": 4,
 "nbformat_minor": 5
}
