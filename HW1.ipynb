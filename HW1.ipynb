{
 "cells": [
  {
   "cell_type": "code",
   "execution_count": 2,
   "id": "e1d13b31-1f86-4344-a6cd-851be03661be",
   "metadata": {},
   "outputs": [],
   "source": [
    "#Problem 0"
   ]
  },
  {
   "cell_type": "code",
   "execution_count": null,
   "id": "f10bb6fc-a017-48ac-ae16-ef3f43ffbee6",
   "metadata": {},
   "outputs": [],
   "source": [
    "def github() -> str:\n",
    "    \"\"\"\n",
    "    Takes no arguments and returns a link to my solutions on Github.\n",
    "    \"\"\"\n",
    "\n",
    "    return \"https://github.com/jkirsch8/econ481/blob/main/HW1.py\""
   ]
  },
  {
   "cell_type": "code",
   "execution_count": null,
   "id": "6b6905b7-44cd-46c8-bc75-401f92a3d3ac",
   "metadata": {},
   "outputs": [],
   "source": [
    "#Problem 2"
   ]
  },
  {
   "cell_type": "code",
   "execution_count": 14,
   "id": "0de77a51-bc61-49c7-b8fc-364d5cea39ef",
   "metadata": {},
   "outputs": [],
   "source": [
    "def evens_and_odds(n: int) -> dict:\n",
    "    \"\"\"\n",
    "    Takes an integer argument and prints the sums of all even and odd numbers less than the integer.\n",
    "    \"\"\"\n",
    "    dict = {'evens':0,\n",
    "           'odds':0}\n",
    "    for i in range(n):\n",
    "        if i % 2 == 0:\n",
    "            dict['evens'] += i\n",
    "        else:\n",
    "            dict['odds'] += i\n",
    "    return dict\n"
   ]
  },
  {
   "cell_type": "code",
   "execution_count": 17,
   "id": "94679570-0a4c-4644-b508-db965763c8f7",
   "metadata": {},
   "outputs": [],
   "source": [
    "#Problem 3"
   ]
  },
  {
   "cell_type": "code",
   "execution_count": 51,
   "id": "ba1c66ad-aba8-4062-8480-998124a01057",
   "metadata": {},
   "outputs": [],
   "source": [
    "from typing import Union\n",
    "\n",
    "def time_diff(date_1: str, date_2: str, out: str) -> Union[str,float]:\n",
    "    \"\"\"\n",
    "    Takes two dates and returns the number of days in between them as a float or a string if specified.\n",
    "    \"\"\"\n",
    "    from datetime import date,time, datetime, timedelta\n",
    "    import datetime as dt\n",
    "    date_1 = datetime.strptime(date_1, '%Y-%m-%d')\n",
    "    date_2 = datetime.strptime(date_2, '%Y-%m-%d')\n",
    "    delta = date_1 - date_2\n",
    "    day_diff = delta.days\n",
    "    output = day_diff\n",
    "    if day_diff < 0:\n",
    "        day_diff = -1*day_diff\n",
    "    if out == 'string':\n",
    "        output = f\"There are {day_diff} days between two dates\"    \n",
    "    return output"
   ]
  },
  {
   "cell_type": "code",
   "execution_count": 53,
   "id": "350fc4e3-01aa-4efe-9280-2cf851192b08",
   "metadata": {},
   "outputs": [],
   "source": [
    "#Problem 4"
   ]
  },
  {
   "cell_type": "code",
   "execution_count": 56,
   "id": "738611e0-4a8a-40d9-ac7d-e4e68c0a9b4f",
   "metadata": {},
   "outputs": [],
   "source": [
    "def reverse(in_list: list) -> list:\n",
    "    \"\"\"\n",
    "    Takes in a list as an argument and reverses the order of the list and outputs the reversed list\n",
    "    \"\"\"\n",
    "    outlist = []\n",
    "    for i in range(len(in_list)-1,-1,-1):\n",
    "        outlist.append(in_list[i])\n",
    "    return outlist"
   ]
  },
  {
   "cell_type": "code",
   "execution_count": 59,
   "id": "9f16be49-ca66-4460-8b6c-3449adbcc628",
   "metadata": {},
   "outputs": [],
   "source": [
    "#Problem 5"
   ]
  },
  {
   "cell_type": "code",
   "execution_count": 71,
   "id": "b76ae7ad-37da-466b-8b77-945111808efa",
   "metadata": {},
   "outputs": [],
   "source": [
    "def prob_k_heads(n: int, k: int) -> float:\n",
    "    \"\"\"\n",
    "    Takes two integers n and k, and returns the probability of getting k heads out of n coin flips\n",
    "    \"\"\"\n",
    "    n_minus_k_fac = 1\n",
    "    for i in range(1,n-k+1):\n",
    "        n_minus_k_fac *= i\n",
    "    n_choose_k = 1\n",
    "    for i in range(k+1, n+1):\n",
    "        n_choose_k *= i\n",
    "    n_choose_k /= n_minus_k_fac\n",
    "    prob = n_choose_k / (2**n)\n",
    "    return prob"
   ]
  },
  {
   "cell_type": "code",
   "execution_count": 72,
   "id": "8a9e0373-98f1-4628-b5a0-64a6540709a7",
   "metadata": {},
   "outputs": [
    {
     "data": {
      "text/plain": [
       "0.5"
      ]
     },
     "execution_count": 72,
     "metadata": {},
     "output_type": "execute_result"
    }
   ],
   "source": [
    "prob_k_heads(2,1)"
   ]
  }
 ],
 "metadata": {
  "kernelspec": {
   "display_name": "Python 3 (ipykernel)",
   "language": "python",
   "name": "python3"
  },
  "language_info": {
   "codemirror_mode": {
    "name": "ipython",
    "version": 3
   },
   "file_extension": ".py",
   "mimetype": "text/x-python",
   "name": "python",
   "nbconvert_exporter": "python",
   "pygments_lexer": "ipython3",
   "version": "3.10.13"
  }
 },
 "nbformat": 4,
 "nbformat_minor": 5
}
