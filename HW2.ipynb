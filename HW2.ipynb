{
 "cells": [
  {
   "cell_type": "code",
   "execution_count": 2,
   "id": "8908fbb7-4477-4664-be71-34dd20680ae3",
   "metadata": {},
   "outputs": [],
   "source": [
    "# Problem 0"
   ]
  },
  {
   "cell_type": "code",
   "execution_count": 3,
   "id": "02e4daea-7fb9-43c4-8585-732e2e5d9408",
   "metadata": {},
   "outputs": [
    {
     "ename": "SyntaxError",
     "evalue": "invalid syntax (432165083.py, line 5)",
     "output_type": "error",
     "traceback": [
      "\u001b[0;36m  Cell \u001b[0;32mIn[3], line 5\u001b[0;36m\u001b[0m\n\u001b[0;31m    **Edit link**\u001b[0m\n\u001b[0m    ^\u001b[0m\n\u001b[0;31mSyntaxError\u001b[0m\u001b[0;31m:\u001b[0m invalid syntax\n"
     ]
    }
   ],
   "source": [
    "def github() -> str:\n",
    "    \"\"\"\n",
    "    Some docstrings.\n",
    "    \"\"\"\n",
    "**Edit link**\n",
    "    return \"https://github.com/<user>/<repo>/blob/main/<filename.py>\""
   ]
  },
  {
   "cell_type": "code",
   "execution_count": 4,
   "id": "04d43222-56f8-43e3-b6ef-ec8a4d2c4a2c",
   "metadata": {},
   "outputs": [],
   "source": [
    "# Problem 1"
   ]
  },
  {
   "cell_type": "code",
   "execution_count": 5,
   "id": "11cfdb66-87ef-4b9f-b227-343f1f7c4d16",
   "metadata": {},
   "outputs": [],
   "source": [
    "def simulate_data(seed = 481) -> tuple:\n",
    "    \"\"\"\n",
    "    Generates 1000 simulations following the distribution y = 5 + 3x1 + 2x2 + 6x3 + e\n",
    "    \"\"\"\n",
    "    import numpy as np\n",
    "    rng = np.random.default_rng(seed = seed)\n",
    "    draws = rng.normal(0,np.sqrt(2),3000)\n",
    "    x = draws.reshape(1000,3)\n",
    "    e = rng.standard_normal(1000).reshape(1000,1)\n",
    "    ints = np.ones(1000).reshape(1000,1)\n",
    "    array = np.concatenate((ints,x,e),axis=1)\n",
    "    beta = [5,3,2,6,1]\n",
    "    y = array @ beta\n",
    "    y = y.reshape(1000,1)\n",
    "    return (y,x)"
   ]
  },
  {
   "cell_type": "code",
   "execution_count": 6,
   "id": "4b78e656-d6a9-46d7-850b-4f4552a66a54",
   "metadata": {},
   "outputs": [
    {
     "data": {
      "text/plain": [
       "5.407028730585224"
      ]
     },
     "execution_count": 6,
     "metadata": {},
     "output_type": "execute_result"
    }
   ],
   "source": [
    "y,x = simulate_data()\n",
    "import numpy as np\n",
    "np.mean(y)"
   ]
  },
  {
   "cell_type": "code",
   "execution_count": 7,
   "id": "40eb2291-aca0-4f3d-873d-3d4aebe90e0e",
   "metadata": {},
   "outputs": [],
   "source": [
    "# Problem 2"
   ]
  },
  {
   "cell_type": "code",
   "execution_count": 8,
   "id": "3f367af9-ac7f-4e42-b23a-6ff07ac1205c",
   "metadata": {},
   "outputs": [
    {
     "ename": "NameError",
     "evalue": "name 'neg_ll' is not defined",
     "output_type": "error",
     "traceback": [
      "\u001b[0;31m---------------------------------------------------------------------------\u001b[0m",
      "\u001b[0;31mNameError\u001b[0m                                 Traceback (most recent call last)",
      "Cell \u001b[0;32mIn[8], line 3\u001b[0m\n\u001b[1;32m      1\u001b[0m \u001b[38;5;28;01mimport\u001b[39;00m \u001b[38;5;21;01mscipy\u001b[39;00m \u001b[38;5;28;01mas\u001b[39;00m \u001b[38;5;21;01msp\u001b[39;00m\n\u001b[1;32m      2\u001b[0m beta \u001b[38;5;241m=\u001b[39m np\u001b[38;5;241m.\u001b[39mones(\u001b[38;5;241m4\u001b[39m)\n\u001b[0;32m----> 3\u001b[0m \u001b[43mneg_ll\u001b[49m(beta,y,x)\n\u001b[1;32m      4\u001b[0m sp\u001b[38;5;241m.\u001b[39mstats\u001b[38;5;241m.\u001b[39mnorm\u001b[38;5;241m.\u001b[39msf(\u001b[38;5;241m-\u001b[39m\u001b[38;5;241m10\u001b[39m)\n",
      "\u001b[0;31mNameError\u001b[0m: name 'neg_ll' is not defined"
     ]
    }
   ],
   "source": [
    "import scipy as sp\n",
    "beta = np.ones(4)\n",
    "neg_ll(beta,y,x)\n",
    "sp.stats.norm.sf(-10)"
   ]
  },
  {
   "cell_type": "code",
   "execution_count": 9,
   "id": "8d6e4fc3-8886-45be-9646-97e3797bc13c",
   "metadata": {},
   "outputs": [],
   "source": [
    "def neg_ll(beta,y,x) -> np.array:\n",
    "    \"\"\"\n",
    "    Compute the negative log-likelihood for the distribution of errors for given data and beta estimates\n",
    "    \"\"\"\n",
    "    beta = beta.reshape(-1,1)\n",
    "    x_ints = np.c_[np.ones(x.shape[0]).reshape(-1,1),x]\n",
    "    e = np.abs(y - x_ints @ beta)\n",
    "    p = 2*sp.stats.norm.sf(e)\n",
    "    value = sum(np.log(p))\n",
    "    return -1*value\n"
   ]
  },
  {
   "cell_type": "code",
   "execution_count": 10,
   "id": "53efc131-eaf8-498a-8577-df9f720e2a99",
   "metadata": {},
   "outputs": [],
   "source": [
    "import numpy as np\n",
    "import scipy as sp\n",
    "\n",
    "def estimate_mle(y: np.array, x: np.array) -> np.array:\n",
    "    \"\"\"\n",
    "    Estimates the MLE parameters for given data\n",
    "    \"\"\"\n",
    "    result = sp.optimize.minimize(\n",
    "        fun = neg_ll,\n",
    "        x0 = (1,1,1,1),\n",
    "        args = (y,x),\n",
    "        #bounds = ((1,10),(1,10),(1,10),(1,10)),\n",
    "        method = 'BFGS')\n",
    "    return result.x"
   ]
  },
  {
   "cell_type": "code",
   "execution_count": 11,
   "id": "0608c4b1-5424-414e-8a7d-b90d68962df7",
   "metadata": {},
   "outputs": [
    {
     "name": "stderr",
     "output_type": "stream",
     "text": [
      "/tmp/ipykernel_108/854027826.py:9: RuntimeWarning: divide by zero encountered in log\n",
      "  value = sum(np.log(p))\n",
      "/opt/conda/lib/python3.10/site-packages/scipy/optimize/_numdiff.py:576: RuntimeWarning: invalid value encountered in subtract\n",
      "  df = fun(x) - f0\n",
      "/tmp/ipykernel_108/854027826.py:9: RuntimeWarning: divide by zero encountered in log\n",
      "  value = sum(np.log(p))\n"
     ]
    },
    {
     "data": {
      "text/plain": [
       "array([4.95260853, 3.00976921, 1.9953637 , 6.00485211])"
      ]
     },
     "execution_count": 11,
     "metadata": {},
     "output_type": "execute_result"
    }
   ],
   "source": [
    "estimate_mle(*simulate_data())"
   ]
  },
  {
   "cell_type": "code",
   "execution_count": null,
   "id": "d0f403d3-dda8-4421-a86c-0c9375a91621",
   "metadata": {},
   "outputs": [],
   "source": [
    "# Problem 3"
   ]
  },
  {
   "cell_type": "code",
   "execution_count": 71,
   "id": "137bdca4-71a1-4bcf-9320-c12a30f9a2a1",
   "metadata": {},
   "outputs": [],
   "source": [
    "def sse(beta,y,x) -> float:\n",
    "    \"\"\"\n",
    "    computes the sum of squared errors for given data and estimates of coefficients\n",
    "    \"\"\"\n",
    "    beta = beta.reshape(-1,1)\n",
    "    x_ints = np.c_[np.ones(x.shape[0]).reshape(-1,1),x]\n",
    "    e = y - x_ints @ beta\n",
    "    sse =  e.T @ e\n",
    "    return sse"
   ]
  },
  {
   "cell_type": "code",
   "execution_count": 69,
   "id": "fb0e8f87-b767-43b7-82ce-0ad973999a19",
   "metadata": {},
   "outputs": [],
   "source": [
    "def estimate_ols(y: np.array, x: np.array) -> np.array:\n",
    "    \"\"\"\n",
    "    Estimates the OLS coefficients for given data by minimizing sum of squared errors\n",
    "    \"\"\"\n",
    "    \n",
    "    import scipy as sp\n",
    "    result = sp.optimize.minimize(\n",
    "        fun = sse,\n",
    "        x0 = (1,1,1,1),\n",
    "        args = (y,x),\n",
    "        method = 'BFGS'\n",
    "    )\n",
    "    return result.x"
   ]
  },
  {
   "cell_type": "code",
   "execution_count": 74,
   "id": "a57533cd-926e-44c2-810d-5c641dd78d8b",
   "metadata": {},
   "outputs": [
    {
     "data": {
      "text/plain": [
       "(4,)"
      ]
     },
     "execution_count": 74,
     "metadata": {},
     "output_type": "execute_result"
    }
   ],
   "source": []
  },
  {
   "cell_type": "code",
   "execution_count": 117,
   "id": "46516ed8-5195-4b4a-812d-fdecd45d36a1",
   "metadata": {},
   "outputs": [
    {
     "data": {
      "text/plain": [
       "array([4.97565661, 2.97250098, 2.00080853, 5.96859857])"
      ]
     },
     "execution_count": 117,
     "metadata": {},
     "output_type": "execute_result"
    }
   ],
   "source": [
    "estimate_ols(*simulate_data(355))"
   ]
  }
 ],
 "metadata": {
  "kernelspec": {
   "display_name": "Python 3 (ipykernel)",
   "language": "python",
   "name": "python3"
  },
  "language_info": {
   "codemirror_mode": {
    "name": "ipython",
    "version": 3
   },
   "file_extension": ".py",
   "mimetype": "text/x-python",
   "name": "python",
   "nbconvert_exporter": "python",
   "pygments_lexer": "ipython3",
   "version": "3.10.13"
  }
 },
 "nbformat": 4,
 "nbformat_minor": 5
}
