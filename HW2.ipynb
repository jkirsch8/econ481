{
 "cells": [
  {
   "cell_type": "code",
   "execution_count": 6,
   "id": "8908fbb7-4477-4664-be71-34dd20680ae3",
   "metadata": {},
   "outputs": [],
   "source": [
    "# Problem 0"
   ]
  },
  {
   "cell_type": "code",
   "execution_count": null,
   "id": "02e4daea-7fb9-43c4-8585-732e2e5d9408",
   "metadata": {},
   "outputs": [],
   "source": [
    "def github() -> str:\n",
    "    \"\"\"\n",
    "    Some docstrings.\n",
    "    \"\"\"\n",
    "**Edit link**\n",
    "    return \"https://github.com/<user>/<repo>/blob/main/<filename.py>\""
   ]
  },
  {
   "cell_type": "code",
   "execution_count": 7,
   "id": "04d43222-56f8-43e3-b6ef-ec8a4d2c4a2c",
   "metadata": {},
   "outputs": [],
   "source": [
    "# Problem 1"
   ]
  },
  {
   "cell_type": "code",
   "execution_count": null,
   "id": "11cfdb66-87ef-4b9f-b227-343f1f7c4d16",
   "metadata": {},
   "outputs": [],
   "source": [
    "def simulate_data(seed: int) -> tuple:\n",
    "    \"\"\"\n",
    "    Some docstrings.\n",
    "    \"\"\"\n",
    "\n",
    "    return None"
   ]
  },
  {
   "cell_type": "code",
   "execution_count": 8,
   "id": "40eb2291-aca0-4f3d-873d-3d4aebe90e0e",
   "metadata": {},
   "outputs": [],
   "source": [
    "# Problem 2"
   ]
  },
  {
   "cell_type": "code",
   "execution_count": null,
   "id": "53efc131-eaf8-498a-8577-df9f720e2a99",
   "metadata": {},
   "outputs": [],
   "source": [
    "import numpy as np\n",
    "\n",
    "def estimate_mle(y: np.array, X: np.array) -> np.array:\n",
    "    \"\"\"\n",
    "    Some docstrings.\n",
    "    \"\"\"\n",
    "\n",
    "    return None"
   ]
  },
  {
   "cell_type": "code",
   "execution_count": null,
   "id": "d0f403d3-dda8-4421-a86c-0c9375a91621",
   "metadata": {},
   "outputs": [],
   "source": [
    "# Problem 3"
   ]
  },
  {
   "cell_type": "code",
   "execution_count": null,
   "id": "fb0e8f87-b767-43b7-82ce-0ad973999a19",
   "metadata": {},
   "outputs": [],
   "source": []
  }
 ],
 "metadata": {
  "kernelspec": {
   "display_name": "Python 3 (ipykernel)",
   "language": "python",
   "name": "python3"
  },
  "language_info": {
   "codemirror_mode": {
    "name": "ipython",
    "version": 3
   },
   "file_extension": ".py",
   "mimetype": "text/x-python",
   "name": "python",
   "nbconvert_exporter": "python",
   "pygments_lexer": "ipython3",
   "version": "3.10.13"
  }
 },
 "nbformat": 4,
 "nbformat_minor": 5
}
