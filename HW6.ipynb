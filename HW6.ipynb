{
 "cells": [
  {
   "cell_type": "code",
   "execution_count": null,
   "id": "dfaa03a0-5f40-42d3-99f6-d820f7d470ec",
   "metadata": {},
   "outputs": [],
   "source": [
    "def github() -> str:\n",
    "    \"\"\"\n",
    "    Some docstrings.\n",
    "    \"\"\"\n",
    "\n",
    "    return \"https://github.com/<user>/<repo>/blob/main/<filename.py>\""
   ]
  },
  {
   "cell_type": "code",
   "execution_count": null,
   "id": "827b0d26-f318-42cd-b89a-51e2da3da80b",
   "metadata": {},
   "outputs": [],
   "source": [
    "def std() -> str:\n",
    "    \"\"\"\n",
    "    Returns a SQL query for the auctions database \n",
    "    and returns standard deviation of bids by item.\n",
    "    \"\"\"\n",
    "    \n",
    "    return None"
   ]
  },
  {
   "cell_type": "code",
   "execution_count": null,
   "id": "f4aae477-1f85-4957-85f6-a01b67a205d9",
   "metadata": {},
   "outputs": [],
   "source": [
    "def bidder_spend_frac() -> str:\n",
    "    \"\"\"\n",
    "    Some docstrings.\n",
    "    \"\"\"\n",
    "\n",
    "    return None"
   ]
  },
  {
   "cell_type": "code",
   "execution_count": null,
   "id": "2ebf0966-ba10-4101-ba59-8061f947fe12",
   "metadata": {},
   "outputs": [],
   "source": [
    "def min_increment_freq() -> str:\n",
    "    \"\"\"\n",
    "    Some docstrings.\n",
    "    \"\"\"\n",
    "\n",
    "    return None"
   ]
  },
  {
   "cell_type": "code",
   "execution_count": null,
   "id": "e1099e94-1a5b-4c1f-8d7b-dd4d39c2a7cd",
   "metadata": {},
   "outputs": [],
   "source": [
    "def win_perc_by_timestamp() -> str:\n",
    "    \"\"\"\n",
    "    Some docstrings.\n",
    "    \"\"\"\n",
    "\n",
    "    return None"
   ]
  }
 ],
 "metadata": {
  "kernelspec": {
   "display_name": "Python 3 (ipykernel)",
   "language": "python",
   "name": "python3"
  },
  "language_info": {
   "codemirror_mode": {
    "name": "ipython",
    "version": 3
   },
   "file_extension": ".py",
   "mimetype": "text/x-python",
   "name": "python",
   "nbconvert_exporter": "python",
   "pygments_lexer": "ipython3",
   "version": "3.10.13"
  }
 },
 "nbformat": 4,
 "nbformat_minor": 5
}
