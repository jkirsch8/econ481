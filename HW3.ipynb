{
 "cells": [
  {
   "cell_type": "code",
   "execution_count": 1,
   "id": "e9a0ce70-9b69-4bda-bad5-a3f3d8b5150a",
   "metadata": {},
   "outputs": [],
   "source": [
    "def github() -> str:\n",
    "    \"\"\"\n",
    "    Returns a link to this code in my github repository\n",
    "    \"\"\"\n",
    "\n",
    "    return \"https://github.com/jkirsch8/econ481/blob/main/HW3.py\""
   ]
  },
  {
   "cell_type": "code",
   "execution_count": 29,
   "id": "a2c832c5-6ee8-48d9-a20c-80567e6811c8",
   "metadata": {
    "scrolled": true
   },
   "outputs": [],
   "source": [
    "import pandas as pd\n",
    "\n",
    "def import_yearly_data(years: list) -> pd.DataFrame:\n",
    "    \"\"\"\n",
    "    Returns data on direct emitters for given years from the EPA data.\n",
    "    \"\"\"\n",
    "    \n",
    "    upd_df = pd.DataFrame()\n",
    "    for year in years:\n",
    "        url = f'https://lukashager.netlify.app/econ-481/data/ghgp_data_{year}.xlsx'\n",
    "        df = pd.read_excel(url,header = 3,sheet_name = 'Direct Emitters')\n",
    "        df['year'] = year\n",
    "        upd_df = pd.concat([df,upd_df])\n",
    "    \n",
    "    \n",
    "    return upd_df\n"
   ]
  },
  {
   "cell_type": "code",
   "execution_count": 30,
   "id": "e8d59128-21f9-4c35-9b58-f8ab213ff7d1",
   "metadata": {},
   "outputs": [
    {
     "name": "stdout",
     "output_type": "stream",
     "text": [
      "Requirement already satisfied: pyxlsb in /opt/conda/lib/python3.10/site-packages (1.0.10)\n",
      "Note: you may need to restart the kernel to use updated packages.\n"
     ]
    }
   ],
   "source": [
    "pip install pyxlsb"
   ]
  },
  {
   "cell_type": "code",
   "execution_count": 31,
   "id": "53ad0f4e-5574-4f53-8445-a84f9fcb2052",
   "metadata": {},
   "outputs": [],
   "source": [
    "import pandas as pd\n",
    "\n",
    "def import_parent_companies(years: list) -> pd.DataFrame:\n",
    "    \"\"\"\n",
    "    Takes in a list of years, returns a dataframe of the parent companies excel sheets from those years\n",
    "    \"\"\"\n",
    "    url = 'https://lukashager.netlify.app/econ-481/data/ghgp_data_parent_company_09_2023.xlsb'\n",
    "    upd_df = pd.DataFrame()\n",
    "    for year in years:\n",
    "        df = pd.read_excel(url,sheet_name = str(year), header = 0)\n",
    "        df = df.dropna(axis = 0, how = 'all')\n",
    "        df['year'] = year\n",
    "        upd_df = pd.concat([df,upd_df])\n",
    "    return upd_df\n"
   ]
  },
  {
   "cell_type": "code",
   "execution_count": 32,
   "id": "b26af676-376a-4e02-9fcc-3e2f9bd37598",
   "metadata": {},
   "outputs": [],
   "source": [
    "def n_null(df: pd.DataFrame, col: str) -> int:\n",
    "    \"\"\"\n",
    "    Takes a data frame and a column name and returns the number of null values in said column\n",
    "    \"\"\"\n",
    "    nulls = df[col].isnull().sum()\n",
    "    return nulls\n"
   ]
  },
  {
   "cell_type": "code",
   "execution_count": 38,
   "id": "d677b220-aff0-43a1-b7b5-cbdf4a75e3cf",
   "metadata": {},
   "outputs": [],
   "source": [
    "def clean_data(emissions_data: pd.DataFrame, parent_data: pd.DataFrame) -> pd.DataFrame:\n",
    "    \"\"\"\n",
    "    Merges and cleans emission and parent company data by year and facility ID\n",
    "    \"\"\"\n",
    "    merged_data = emissions_data.merge(parent_data,how = 'left',left_on=['Facility Id', 'year'],right_on = ['GHGRP FACILITY ID', 'year'])\n",
    "    merged_data = merged_data[['Facility Id','year','State','Industry Type (sectors)','Total reported direct emissions','PARENT CO. STATE','PARENT CO. PERCENT OWNERSHIP']]\n",
    "    merged_data.columns = merged_data.columns.str.lower()\n",
    "    return merged_data"
   ]
  },
  {
   "cell_type": "code",
   "execution_count": 39,
   "id": "e0d91a81-95fd-46c2-814a-d0cfde532fba",
   "metadata": {},
   "outputs": [],
   "source": [
    "#Test\n",
    "emissions_data = import_yearly_data(['2019','2020','2021','2022'])\n",
    "parent_data = import_parent_companies(['2019','2020','2021','2022'])\n"
   ]
  },
  {
   "cell_type": "code",
   "execution_count": 35,
   "id": "700ab36d-9b1f-42e6-9b86-250e632b2847",
   "metadata": {},
   "outputs": [],
   "source": [
    "#Exploration\n",
    "merged_data = emissions_data.merge(parent_data,how = 'left',left_on=['Facility Id', 'year'],right_on = ['GHGRP FACILITY ID', 'year'])\n",
    "merged_data = merged_data[['Facility Id','year','State','Industry Type (sectors)','Total reported direct emissions','PARENT CO. STATE','PARENT CO. PERCENT OWNERSHIP']]\n",
    "merged_data.columns = merged_data.columns.str.lower()\n",
    "merged_data\n",
    "\n",
    "grouped_data = merged_data.groupby(['industry type (sectors)'])\n",
    "summary_df = grouped_data[['total reported direct emissions','parent co. percent ownership']].agg([('mean','mean'),('median','median'),('min','min'),('max','max'),('sum','sum')])\n",
    "sorted = summary_df.sort_values(by=('total reported direct emissions', 'sum'),ascending = False)\n"
   ]
  },
  {
   "cell_type": "code",
   "execution_count": 36,
   "id": "71a97e4c-da37-4712-a39d-3c2a138c4c5b",
   "metadata": {},
   "outputs": [],
   "source": [
    "def aggregate_emissions(df: pd.DataFrame, group_vars: list) -> pd.DataFrame:\n",
    "    \"\"\"\n",
    "    Groups the dataframe by the given variables and outputs summary statistics for emissions and parent co. ownership\n",
    "    \"\"\"\n",
    "    grouped_data = df.groupby(group_vars)\n",
    "    summary_df = grouped_data[['total reported direct emissions','parent co. percent ownership']].agg([('mean','mean'),('median','median'),('min','min'),('max','max')])\n",
    "    sorted = summary_df.sort_values(by=('total reported direct emissions', 'mean'),ascending = False)\n",
    "    return sorted"
   ]
  },
  {
   "cell_type": "code",
   "execution_count": 37,
   "id": "f2c399a0-9da3-4f72-825c-4d8b7d24bc44",
   "metadata": {},
   "outputs": [],
   "source": [
    "total = aggregate_emissions(clean_data(import_yearly_data([2019,2020,2021]),import_parent_companies([2019,2020,2021])),['parent co. state'])\n"
   ]
  },
  {
   "cell_type": "code",
   "execution_count": null,
   "id": "19aebe8d-451e-4fae-b055-35af5528dfe3",
   "metadata": {},
   "outputs": [],
   "source": []
  }
 ],
 "metadata": {
  "kernelspec": {
   "display_name": "Python 3 (ipykernel)",
   "language": "python",
   "name": "python3"
  },
  "language_info": {
   "codemirror_mode": {
    "name": "ipython",
    "version": 3
   },
   "file_extension": ".py",
   "mimetype": "text/x-python",
   "name": "python",
   "nbconvert_exporter": "python",
   "pygments_lexer": "ipython3",
   "version": "3.10.13"
  }
 },
 "nbformat": 4,
 "nbformat_minor": 5
}
